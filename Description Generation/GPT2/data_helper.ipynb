{
 "cells": [
  {
   "cell_type": "code",
   "execution_count": 7,
   "id": "4a337207-9df0-4273-85cc-7e88ef366fc3",
   "metadata": {},
   "outputs": [],
   "source": [
    "import pandas as pd\n",
    "from sklearn.model_selection import train_test_split\n",
    "import json"
   ]
  },
  {
   "cell_type": "code",
   "execution_count": 8,
   "id": "3a20e375-0467-490e-9d5b-31fb3baae11e",
   "metadata": {},
   "outputs": [
    {
     "name": "stdout",
     "output_type": "stream",
     "text": [
      "Looking in indexes: https://pypi.tuna.tsinghua.edu.cn/simple\n",
      "Requirement already satisfied: openpyxl in /environment/miniconda3/lib/python3.7/site-packages (3.0.10)\n",
      "Requirement already satisfied: et-xmlfile in /environment/miniconda3/lib/python3.7/site-packages (from openpyxl) (1.1.0)\n",
      "Note: you may need to restart the kernel to use updated packages.\n"
     ]
    }
   ],
   "source": [
    "pip install openpyxl"
   ]
  },
  {
   "cell_type": "code",
   "execution_count": 5,
   "id": "3ed0d845-2ed8-4b36-a2d3-009bf7ae7193",
   "metadata": {},
   "outputs": [
    {
     "name": "stdout",
     "output_type": "stream",
     "text": [
      "88\n",
      "10\n",
      "train_len_content: 49084, train_len_title:177550, train_len_content+train_len_title:226634\n"
     ]
    }
   ],
   "source": [
    "#data = pd.read_excel('语料表.xlsx')\n",
    "\n",
    "#x, y = data['P3标签'], data['宣传语（4-8）最高不超过20字']\n",
    "\n",
    "#train_x, test_x, train_y, test_y = train_test_split(x, y, test_size=0.2, random_state=1)\n",
    "\n",
    "max_len = 0\n",
    "max_len_s = 0\n",
    "\n",
    "train_len_content = 0\n",
    "train_len_title = 0\n",
    "\n",
    "with open('train.json', 'w', encoding='utf-8') as f:\n",
    "    for i, j in zip(train_x, train_y):\n",
    "        for t in j.split('\\n'):\n",
    "            t = t.replace(' ', '').replace('\\t', '')\n",
    "            max_len = max(max_len, len(t))\n",
    "            train_len_content += len(i)\n",
    "            train_len_title += len(t)\n",
    "            max_len_s = max(max_len_s, len(i))\n",
    "            res = {\"content\": i, \"title\":t}\n",
    "            f.write(f\"{json.dumps(res, ensure_ascii=False)}\\n\")\n",
    "print(max_len)\n",
    "print(max_len_s)\n",
    "print(f'train_len_content: {train_len_content}, train_len_title:{train_len_title}, train_len_content+train_len_title:{train_len_content+train_len_title}')"
   ]
  },
  {
   "cell_type": "code",
   "execution_count": 10,
   "id": "411ebcfc-2836-4301-aacc-1bcd46f39610",
   "metadata": {},
   "outputs": [
    {
     "name": "stdout",
     "output_type": "stream",
     "text": [
      "88\n",
      "10\n",
      "train_len_title: 49084, train_len_content:177550, train_len_title+train_len_content226634\n"
     ]
    }
   ],
   "source": [
    "data = pd.read_excel('语料表.xlsx')\n",
    "\n",
    "x, y = data['P3标签'], data['宣传语（4-8）最高不超过20字']\n",
    "\n",
    "train_x, test_x, train_y, test_y = train_test_split(x, y, test_size=0.2, random_state=1)\n",
    "\n",
    "max_len = 0\n",
    "max_len_s = 0\n",
    "\n",
    "train_len_content = 0\n",
    "train_len_title = 0\n",
    "\n",
    "with open('train.json', 'w', encoding='utf-8') as f:\n",
    "    for i, j in zip(train_x, train_y):\n",
    "        for t in j.split('\\n'):\n",
    "            t = t.replace(' ', '').replace('\\t', '')\n",
    "            max_len = max(max_len, len(t))\n",
    "            train_len_title += len(i)\n",
    "            train_len_content += len(t)\n",
    "            max_len_s = max(max_len_s, len(i))\n",
    "            res = {\"title\": i, \"content\":t}\n",
    "            f.write(f\"{json.dumps(res, ensure_ascii=False)}\\n\")\n",
    "print(max_len)\n",
    "print(max_len_s)\n",
    "print(f'train_len_title: {train_len_title}, train_len_content:{train_len_content}, train_len_title+train_len_content{train_len_title+train_len_content}')"
   ]
  },
  {
   "cell_type": "code",
   "execution_count": 11,
   "id": "ecfe7aef-0a98-4244-9f9c-0e0b70b58ca2",
   "metadata": {},
   "outputs": [
    {
     "name": "stdout",
     "output_type": "stream",
     "text": [
      "88\n",
      "10\n",
      "test_len_title: 11933, test_len_content:44212, test_len_title+test_len_content:56145\n"
     ]
    }
   ],
   "source": [
    "test_len_content = 0\n",
    "test_len_title = 0\n",
    "with open('test.json', 'w', encoding='utf-8') as f:\n",
    "    for i, j in zip(test_x, test_y):\n",
    "        for t in j.split('\\n'):\n",
    "            t = t.replace(' ', '').replace('\\t', '')\n",
    "            max_len = max(max_len, len(t))\n",
    "            max_len_s = max(max_len_s, len(i))\n",
    "            test_len_title += len(i)\n",
    "            test_len_content += len(t)\n",
    "            res = {\"title\": i, \"content\":t}\n",
    "            f.write(f'{json.dumps(res, ensure_ascii=False)}\\n')\n",
    "print(max_len)\n",
    "print(max_len_s)\n",
    "print(f'test_len_title: {test_len_title}, test_len_content:{test_len_content}, test_len_title+test_len_content:{test_len_title+test_len_content}')\n"
   ]
  },
  {
   "cell_type": "code",
   "execution_count": null,
   "id": "92e2db88-b3ee-4f7a-8663-ccfa98758559",
   "metadata": {},
   "outputs": [],
   "source": []
  }
 ],
 "metadata": {
  "kernelspec": {
   "display_name": "Python 3 (ipykernel)",
   "language": "python",
   "name": "python3"
  },
  "language_info": {
   "codemirror_mode": {
    "name": "ipython",
    "version": 3
   },
   "file_extension": ".py",
   "mimetype": "text/x-python",
   "name": "python",
   "nbconvert_exporter": "python",
   "pygments_lexer": "ipython3",
   "version": "3.7.10"
  }
 },
 "nbformat": 4,
 "nbformat_minor": 5
}
